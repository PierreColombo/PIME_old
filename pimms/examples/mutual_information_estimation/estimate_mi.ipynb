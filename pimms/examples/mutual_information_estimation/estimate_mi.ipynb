{
 "cells": [
  {
   "cell_type": "code",
   "execution_count": 3,
   "metadata": {},
   "outputs": [
    {
     "ename": "ModuleNotFoundError",
     "evalue": "No module named 'examples'",
     "output_type": "error",
     "traceback": [
      "\u001B[0;31m---------------------------------------------------------------------------\u001B[0m",
      "\u001B[0;31mModuleNotFoundError\u001B[0m                       Traceback (most recent call last)",
      "Input \u001B[0;32mIn [3]\u001B[0m, in \u001B[0;36m<cell line: 6>\u001B[0;34m()\u001B[0m\n\u001B[1;32m      3\u001B[0m \u001B[38;5;28;01mimport\u001B[39;00m \u001B[38;5;21;01msys\u001B[39;00m\n\u001B[1;32m      5\u001B[0m \u001B[38;5;28;01mfrom\u001B[39;00m \u001B[38;5;21;01mmain\u001B[39;00m \u001B[38;5;28;01mimport\u001B[39;00m get_args,main\n\u001B[0;32m----> 6\u001B[0m \u001B[38;5;28;01mfrom\u001B[39;00m \u001B[38;5;21;01mexamples\u001B[39;00m\u001B[38;5;21;01m.\u001B[39;00m\u001B[38;5;21;01mtools\u001B[39;00m \u001B[38;5;28;01mimport\u001B[39;00m plot_mi_run, plot_mi_bias_var_mse, collect_mi\n\u001B[1;32m      7\u001B[0m \u001B[38;5;28;01mimport\u001B[39;00m \u001B[38;5;21;01margparse\u001B[39;00m\n\u001B[1;32m      8\u001B[0m cuda \u001B[38;5;241m=\u001B[39m \u001B[38;5;28;01mFalse\u001B[39;00m\n",
      "\u001B[0;31mModuleNotFoundError\u001B[0m: No module named 'examples'"
     ]
    }
   ],
   "source": [
    "from os.path import join\n",
    "\n",
    "import sys\n",
    "\n",
    "from main import get_args,main\n",
    "from examples.tools import plot_mi_run, plot_mi_bias_var_mse, collect_mi\n",
    "import argparse\n",
    "cuda = False"
   ]
  },
  {
   "cell_type": "markdown",
   "metadata": {},
   "source": [
    "### MI estimation of Gaussian random variables in Section 3.2.2"
   ]
  },
  {
   "cell_type": "code",
   "execution_count": 2,
   "metadata": {
    "scrolled": false
   },
   "outputs": [
    {
     "name": "stderr",
     "output_type": "stream",
     "text": [
      "usage: ipykernel_launcher.py [-h] [--reps REPS] [--max_mi MAX_MI]\n",
      "                             [--sample_dim SAMPLE_DIM]\n",
      "                             [--hidden_size HIDDEN_SIZE]\n",
      "                             [--batch_size BATCH_SIZE]\n",
      "                             [--training_steps TRAINING_STEPS]\n",
      "                             [--kernel_samples KERNEL_SAMPLES]\n",
      "                             [--learning_rate LEARNING_RATE] [--cubic]\n",
      "                             [--use_tanh] [--dimension DIMENSION]\n",
      "ipykernel_launcher.py: error: unrecognized arguments: -f /Users/colombo/Library/Jupyter/runtime/kernel-5a10ee2d-5a4e-4e7c-a9bb-bdac5b0b12ba.json\n"
     ]
    },
    {
     "ename": "SystemExit",
     "evalue": "2",
     "output_type": "error",
     "traceback": [
      "An exception has occurred, use %tb to see the full traceback.\n",
      "\u001B[0;31mSystemExit\u001B[0m\u001B[0;31m:\u001B[0m 2\n"
     ]
    },
    {
     "name": "stderr",
     "output_type": "stream",
     "text": [
      "/Users/colombo/opt/anaconda3/lib/python3.9/site-packages/IPython/core/interactiveshell.py:3405: UserWarning: To exit: use 'exit', 'quit', or Ctrl-D.\n",
      "  warn(\"To exit: use 'exit', 'quit', or Ctrl-D.\", stacklevel=1)\n"
     ]
    }
   ],
   "source": [
    "main(False)"
   ]
  },
  {
   "cell_type": "code",
   "execution_count": null,
   "metadata": {},
   "outputs": [
    {
     "name": "stderr",
     "output_type": "stream",
     "text": [
      "Models:   0%|                                                                                                                                                                                   | 0/2 [00:00<?, ?it/s]\n",
      "Training Loop: 100%|█████████████████████████████████████████████████████████████████████████████████████████████████████████████████████████████████████████████████████████████| 5000/5000 [00:29<00:00, 169.67it/s]\u001B[A\n",
      "\n",
      "Training Loop:   0%|▌                                                                                                                                                              | 17/5000 [00:00<00:29, 169.46it/s]\u001B[A"
     ]
    },
    {
     "name": "stdout",
     "output_type": "stream",
     "text": [
      "finish training for TUBA with true MI value = 2.000000\n"
     ]
    },
    {
     "name": "stderr",
     "output_type": "stream",
     "text": [
      "Training Loop: 100%|█████████████████████████████████████████████████████████████████████████████████████████████████████████████████████████████████████████████████████████████| 5000/5000 [00:30<00:00, 163.65it/s]\n",
      "\n",
      "Training Loop:   0%|▌                                                                                                                                                              | 17/5000 [00:00<00:29, 166.82it/s]\u001B[A"
     ]
    },
    {
     "name": "stdout",
     "output_type": "stream",
     "text": [
      "finish training for TUBA with true MI value = 4.000000\n"
     ]
    },
    {
     "name": "stderr",
     "output_type": "stream",
     "text": [
      "Training Loop:  78%|█████████████████████████████████████████████████████████████████████████████████████████████████████████████████████████▊                                   | 3878/5000 [00:22<00:06, 170.07it/s]"
     ]
    }
   ],
   "source": [
    "# Cubed Y\n",
    "main(True)"
   ]
  },
  {
   "cell_type": "markdown",
   "metadata": {},
   "source": [
    "### MI estimation of uniformly distributed random variables in Section 3.2.2"
   ]
  },
  {
   "cell_type": "code",
   "execution_count": null,
   "metadata": {},
   "outputs": [],
   "source": [
    "args = get_args([])\n",
    "args.dim = 20\n",
    "args.I = 0.1\n",
    "args.I_max = 0.5\n",
    "args.N = 128\n",
    "args.steps = 20000\n",
    "args.nruns = 1\n",
    "args.c = 1\n",
    "args.layers = 1\n",
    "args.pickle = 'model.p'\n",
    "args.cuda = cuda\n",
    "args.run_id = 1\n",
    "args.pdf = 'uniform'\n",
    "args.nruns = 1\n",
    "\n",
    "log_dir = meta_main(args)\n",
    "\n",
    "# Collect the best run for each method\n",
    "collect_mi(join(log_dir, 'summary.json'))\n"
   ]
  },
  {
   "cell_type": "code",
   "execution_count": null,
   "metadata": {},
   "outputs": [],
   "source": [
    "\n",
    "# Plot Traiing Run\n",
    "plot_mi_run(join(log_dir, 'collected.json'), show=True, save=False)\n",
    "# Plot Bias, MSE, Variance\n",
    "plot_mi_bias_var_mse(join(log_dir, 'collected.json'), show=True, save=False)"
   ]
  },
  {
   "cell_type": "code",
   "execution_count": null,
   "metadata": {},
   "outputs": [],
   "source": []
  }
 ],
 "metadata": {
  "kernelspec": {
   "display_name": "Python 3 (ipykernel)",
   "language": "python",
   "name": "python3"
  },
  "language_info": {
   "codemirror_mode": {
    "name": "ipython",
    "version": 3
   },
   "file_extension": ".py",
   "mimetype": "text/x-python",
   "name": "python",
   "nbconvert_exporter": "python",
   "pygments_lexer": "ipython3",
   "version": "3.9.12"
  }
 },
 "nbformat": 4,
 "nbformat_minor": 4
}